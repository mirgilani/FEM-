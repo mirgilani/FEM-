{
 "cells": [
  {
   "cell_type": "markdown",
   "id": "4b50c89e",
   "metadata": {},
   "source": [
    "# EXAMPLE 3.6 (page 96 )"
   ]
  },
  {
   "cell_type": "markdown",
   "id": "b4349cf3",
   "metadata": {},
   "source": [
    "For the two-bar truss shown in Figure 3–14, determine the displacement in the y direction\n",
    "of node 1 and the axial force in each element. A force of P 5 1000 kN is applied at node 1\n",
    "in the positive y direction while node 1 settles an amount d 5 50 mm in the negative x\n",
    "direction. Let E 5 210 GPa and A 5 3 6.00 10 m 24 2 for each element. The lengths of the\n",
    "elements are shown in the figure."
   ]
  },
  {
   "cell_type": "code",
   "execution_count": 1,
   "id": "8bea5232",
   "metadata": {},
   "outputs": [
    {
     "data": {
      "image/png": "[encoded data removed]",
      "text/plain": [
       "<IPython.core.display.Image object>"
      ]
     },
     "execution_count": 1,
     "metadata": {},
     "output_type": "execute_result"
    }
   ],
   "source": [
    "from IPython.display import Image\n",
    "Image(\"C:/Users/49171/Desktop/VW/Example_image.png\")"
   ]
  },
  {
   "cell_type": "markdown",
   "id": "9b0676f8",
   "metadata": {},
   "source": [
    "# SOLUTION:\n"
   ]
  },
  {
   "cell_type": "code",
   "execution_count": 2,
   "id": "dad2cf4b",
   "metadata": {},
   "outputs": [],
   "source": [
    "import numpy as np\n",
    "import copy\n",
    "import math\n",
    "import matplotlib.pyplot as plt"
   ]
  },
  {
   "cell_type": "code",
   "execution_count": 3,
   "id": "bf962460",
   "metadata": {},
   "outputs": [],
   "source": [
    "E = 210000000 #200*10**9 # (N/m^2)\n",
    "A = 6/10000 # 0.005 # (m^2)"
   ]
  },
  {
   "cell_type": "code",
   "execution_count": 4,
   "id": "d5c77f55",
   "metadata": {},
   "outputs": [
    {
     "name": "stdout",
     "output_type": "stream",
     "text": [
      "53.13010235415598\n"
     ]
    }
   ],
   "source": [
    "x = 3\n",
    "y = 4\n",
    "d = (x**2 + y**2)**0.5\n",
    "dgree = np.arccos(x/d)\n",
    "dgree*180/math.pi\n",
    "print(dgree*180/math.pi)\n"
   ]
  },
  {
   "cell_type": "markdown",
   "id": "9e2b586b",
   "metadata": {},
   "source": [
    "# Element A (from node 1 to 2 )"
   ]
  },
  {
   "cell_type": "code",
   "execution_count": 5,
   "id": "5b2e01fd",
   "metadata": {},
   "outputs": [
    {
     "name": "stdout",
     "output_type": "stream",
     "text": [
      "Global stiffness Matrix for element one : \n",
      "[[ 0.36  0.48 -0.36 -0.48]\n",
      " [ 0.48  0.64 -0.48 -0.64]\n",
      " [-0.36 -0.48  0.36  0.48]\n",
      " [-0.48 -0.64  0.48  0.64]]\n"
     ]
    }
   ],
   "source": [
    "theta = 53.130  #rad\n",
    "\n",
    "#convert rad to degree\n",
    "theta=theta*math.pi/180\n",
    "\n",
    "\n",
    "# 1 rad * (Pi/180) =dgree\n",
    "\n",
    "\n",
    "L = 5 #meter\n",
    "\n",
    "# Top left quarter\n",
    "e11 = math.cos(theta)**2\n",
    "e12 = math.cos(theta)*math.sin(theta)\n",
    "e21 = math.cos(theta)*math.sin(theta)\n",
    "e22 = math.sin(theta)**2\n",
    "    \n",
    "k11_12 = (E*A/L)*np.array([[e11, e12],[e21, e22]])\n",
    "    \n",
    "# Top right quarter\n",
    "e11 = -math.cos(theta)**2\n",
    "e12 = -math.cos(theta)*math.sin(theta)\n",
    "e21 = -math.cos(theta)*math.sin(theta)\n",
    "e22 = -math.sin(theta)**2\n",
    "\n",
    "k12_12 = (E*A/L)*np.array([[e11, e12],[e21, e22]])\n",
    "\n",
    "    \n",
    "# Bottem Left quarter\n",
    "e11 = -math.cos(theta)**2\n",
    "e12 = -math.cos(theta)*math.sin(theta)\n",
    "e21 = -math.cos(theta)*math.sin(theta)\n",
    "e22 = -math.sin(theta)**2\n",
    "\n",
    "k21_12 = (E*A/L)*np.array([[e11, e12],[e21, e22]])\n",
    "    \n",
    "# Bottem Right quarter \n",
    "e11 = math.cos(theta)**2\n",
    "e12 = math.cos(theta)*math.sin(theta)\n",
    "e21 = math.cos(theta)*math.sin(theta)\n",
    "e22 = math.sin(theta)**2\n",
    "\n",
    "k22_12 = (E*A/L)*np.array([[e11, e12],[e21, e22]])\n",
    "\n",
    "# Concatenate k11 and k12\n",
    "top = np.concatenate((k11_12,k12_12), axis =1)\n",
    "\n",
    "# Concatenate k21 and k22\n",
    "btm = np.concatenate((k21_12,k22_12), axis =1)\n",
    "\n",
    "# Concatenate Top and bmt\n",
    "\n",
    "k1 = np.concatenate((top,btm), axis =0)\n",
    "k1_s= k1/25200\n",
    "print(\"Global stiffness Matrix for element one : \")\n",
    "print(np.round(k1_s, 3))\n",
    "\n"
   ]
  },
  {
   "cell_type": "markdown",
   "id": "3be26d44",
   "metadata": {},
   "source": [
    "# Element B (from node 2 to node 3)"
   ]
  },
  {
   "cell_type": "code",
   "execution_count": 6,
   "id": "b08a0c1b",
   "metadata": {},
   "outputs": [
    {
     "name": "stdout",
     "output_type": "stream",
     "text": [
      "Global stiffness Matrix for element two : \n",
      "[[ 0.    0.   -0.   -0.  ]\n",
      " [ 0.    1.25 -0.   -1.25]\n",
      " [-0.   -0.    0.    0.  ]\n",
      " [-0.   -1.25  0.    1.25]]\n"
     ]
    }
   ],
   "source": [
    "theta = 270 #rad\n",
    "\n",
    "#convert rad to degree\n",
    "theta=theta*math.pi/180\n",
    "\n",
    "L = 4\n",
    "\n",
    "# Top left quarter\n",
    "e11 = math.cos(theta)**2\n",
    "e12 = math.cos(theta)*math.sin(theta)\n",
    "e21 = math.cos(theta)*math.sin(theta)\n",
    "e22 = math.sin(theta)**2\n",
    "    \n",
    "k11_23 = (E*A/L)*np.array([[e11, e12],[e21, e22]])\n",
    "    \n",
    "# Top right quarter\n",
    "e11 = -math.cos(theta)**2\n",
    "e12 = -math.cos(theta)*math.sin(theta)\n",
    "e21 = -math.cos(theta)*math.sin(theta)\n",
    "e22 = -math.sin(theta)**2\n",
    "\n",
    "k12_23 = (E*A/L)*np.array([[e11, e12],[e21, e22]])\n",
    "\n",
    "    \n",
    "# Bottem Left quarter\n",
    "e11 = -math.cos(theta)**2\n",
    "e12 = -math.cos(theta)*math.sin(theta)\n",
    "e21 = -math.cos(theta)*math.sin(theta)\n",
    "e22 = -math.sin(theta)**2\n",
    "\n",
    "k21_23 = (E*A/L)*np.array([[e11, e12],[e21, e22]])\n",
    "    \n",
    "# Bottem Right quarter \n",
    "e11 = math.cos(theta)**2\n",
    "e12 = math.cos(theta)*math.sin(theta)\n",
    "e21 = math.cos(theta)*math.sin(theta)\n",
    "e22 = math.sin(theta)**2\n",
    "\n",
    "k22_23 = (E*A/L)*np.array([[e11, e12],[e21, e22]])\n",
    "\n",
    "# Concatenate k11 and k12\n",
    "top = np.concatenate((k11_23,k12_23), axis =1)\n",
    "\n",
    "# Concatenate k21 and k22\n",
    "btm = np.concatenate((k21_23,k22_23), axis=1)\n",
    "\n",
    "# Concatenate Top and bmt\n",
    "\n",
    "k2 = np.concatenate((top,btm), axis =0)\n",
    "k2_s = k2/25200\n",
    "print(\"Global stiffness Matrix for element two : \")\n",
    "\n",
    "print(np.round(k2_s, 2))\n",
    "#k11_23/25200\n",
    "#print(np.round(k11_23/25200,3))"
   ]
  },
  {
   "cell_type": "code",
   "execution_count": 7,
   "id": "4a50c845",
   "metadata": {},
   "outputs": [
    {
     "name": "stdout",
     "output_type": "stream",
     "text": [
      "[[ 0.36  0.48 -0.36 -0.48 -0.   -0.  ]\n",
      " [ 0.48  1.89 -0.48 -0.64 -0.   -1.25]\n",
      " [-0.36 -0.48  0.36  0.48  0.    0.  ]\n",
      " [-0.48 -0.64  0.48  0.64  0.    0.  ]\n",
      " [-0.   -0.    0.    0.    0.    0.  ]\n",
      " [-0.   -1.25  0.    0.    0.    1.25]]\n"
     ]
    }
   ],
   "source": [
    "\n",
    "#M = np.zeros((6,6))\n",
    "#M1 = np.matrix([[1,2,3,4],[5,6,7,8],[9,10,11,12],[13, 14, 15,16]])\n",
    "#M2 = np.matrix([[1,2,3,4],[5,6,7,8],[9,10,11,12],[13, 14, 15,16]])\n",
    "#M3 = np.matrix([[1,2],[3,4]])\n",
    "#M4 = np.matrix([[1,2],[3,4]])\n",
    "#M[:4,:4] += M1\n",
    "#M[2:6, 2:6] += M2\n",
    "#M[2:4, 2:4] += M3\n",
    "#M[3:5, 3:5] += M4\n",
    "\n",
    "#M\n",
    "\n",
    "\n",
    "\n",
    "K_total = np.zeros((6,6))\n",
    "\n",
    "\n",
    "K_total[:2,:2] += (k11_12 + k11_23)\n",
    "K_total[0:2,2:4] += k12_12\n",
    "K_total[0:2,4:6] += k12_23\n",
    "\n",
    "K_total[2:4,0:2] += k21_12\n",
    "K_total[2:4,2:4] += k22_12\n",
    "\n",
    "\n",
    "K_total[4:6,0:2] += k12_23\n",
    "\n",
    "K_total[4:6,4:6] += k22_23\n",
    "K_total = K_total/25200\n",
    "print(np.round(K_total, 2))\n"
   ]
  },
  {
   "cell_type": "code",
   "execution_count": 8,
   "id": "7f5f761b",
   "metadata": {},
   "outputs": [],
   "source": [
    "u1 = -50/1000\n",
    "#v1 = need to caluclaue \n",
    "u2 = 0\n",
    "v2 = 0\n",
    "u3 = 0\n",
    "v3 = 0\n"
   ]
  },
  {
   "cell_type": "code",
   "execution_count": 9,
   "id": "514379c0",
   "metadata": {},
   "outputs": [],
   "source": [
    "#25200(0.48*u1 + 1.89v1) = p =f1y = 1000"
   ]
  },
  {
   "cell_type": "code",
   "execution_count": 10,
   "id": "c96bc781",
   "metadata": {},
   "outputs": [],
   "source": [
    "p = f1y = 1000 #N\n",
    "d = u1= -0.05 #mm"
   ]
  },
  {
   "cell_type": "code",
   "execution_count": 11,
   "id": "1b57edf0",
   "metadata": {},
   "outputs": [
    {
     "name": "stdout",
     "output_type": "stream",
     "text": [
      "0.0337\n"
     ]
    }
   ],
   "source": [
    "v1 = ((1000/25200) + 0.48*(0.05))/1.89\n",
    "print(np.round(v1,4))"
   ]
  },
  {
   "cell_type": "code",
   "execution_count": null,
   "id": "81ec8dc3",
   "metadata": {},
   "outputs": [],
   "source": []
  },
  {
   "cell_type": "code",
   "execution_count": 12,
   "id": "d1d5f761",
   "metadata": {},
   "outputs": [
    {
     "data": {
      "text/plain": [
       "array([[ 25200, -25200],\n",
       "       [-25200,  25200]])"
      ]
     },
     "execution_count": 12,
     "metadata": {},
     "output_type": "execute_result"
    }
   ],
   "source": [
    "ke= (25200*(np.array([[1, -1], [-1, 1]])))\n",
    "ke"
   ]
  },
  {
   "cell_type": "code",
   "execution_count": 13,
   "id": "c31b523c",
   "metadata": {},
   "outputs": [
    {
     "data": {
      "text/plain": [
       "array([[0.6, 0.8, 0. , 0. ],\n",
       "       [0. , 0. , 0.6, 0.8]])"
      ]
     },
     "execution_count": 13,
     "metadata": {},
     "output_type": "execute_result"
    }
   ],
   "source": [
    "de = np.array([[0.6, 0.8, 0 , 0], [0, 0, 0.6, 0.8]])\n",
    "de"
   ]
  },
  {
   "cell_type": "code",
   "execution_count": 14,
   "id": "145e8495",
   "metadata": {},
   "outputs": [
    {
     "data": {
      "text/plain": [
       "array([[-0.05  ],\n",
       "       [ 0.0337],\n",
       "       [ 0.    ],\n",
       "       [ 0.    ]])"
      ]
     },
     "execution_count": 14,
     "metadata": {},
     "output_type": "execute_result"
    }
   ],
   "source": [
    "oe = np.array([[-0.05],[0.0337], [0], [0]])\n",
    "oe"
   ]
  },
  {
   "cell_type": "markdown",
   "id": "da893277",
   "metadata": {},
   "source": [
    "# Element 1\n"
   ]
  },
  {
   "cell_type": "code",
   "execution_count": 15,
   "id": "d3023e9d",
   "metadata": {},
   "outputs": [
    {
     "data": {
      "text/plain": [
       "array([[-76.608],\n",
       "       [ 76.608]])"
      ]
     },
     "execution_count": 15,
     "metadata": {},
     "output_type": "execute_result"
    }
   ],
   "source": [
    "fx1_2 =  ke.dot(de.dot(oe))\n",
    "fx1_2"
   ]
  },
  {
   "cell_type": "markdown",
   "id": "88928beb",
   "metadata": {},
   "source": [
    "# Element 2\n"
   ]
  },
  {
   "cell_type": "code",
   "execution_count": 16,
   "id": "c9a2084a",
   "metadata": {},
   "outputs": [
    {
     "data": {
      "text/plain": [
       "array([[-0.05  ],\n",
       "       [ 0.0337],\n",
       "       [ 0.    ],\n",
       "       [ 0.    ]])"
      ]
     },
     "execution_count": 16,
     "metadata": {},
     "output_type": "execute_result"
    }
   ],
   "source": [
    "oee = np.array([[-0.05],[0.0337], [0], [0]] )\n",
    "oee"
   ]
  },
  {
   "cell_type": "code",
   "execution_count": 17,
   "id": "52f4ac75",
   "metadata": {},
   "outputs": [
    {
     "data": {
      "text/plain": [
       "array([[0, 1, 0, 0],\n",
       "       [0, 0, 0, 1]])"
      ]
     },
     "execution_count": 17,
     "metadata": {},
     "output_type": "execute_result"
    }
   ],
   "source": [
    "dee = np.array([[0, 1, 0 , 0], [0, 0, 0, 1]])\n",
    "dee"
   ]
  },
  {
   "cell_type": "code",
   "execution_count": 18,
   "id": "e7c258dc",
   "metadata": {},
   "outputs": [
    {
     "data": {
      "text/plain": [
       "array([[ 31500, -31500],\n",
       "       [-31500,  31500]])"
      ]
     },
     "execution_count": 18,
     "metadata": {},
     "output_type": "execute_result"
    }
   ],
   "source": [
    "kee = (31500*(np.array([[1, -1], [-1, 1]])))\n",
    "kee"
   ]
  },
  {
   "cell_type": "code",
   "execution_count": 19,
   "id": "203ed791",
   "metadata": {},
   "outputs": [
    {
     "data": {
      "text/plain": [
       "array([[ 1061.55],\n",
       "       [-1061.55]])"
      ]
     },
     "execution_count": 19,
     "metadata": {},
     "output_type": "execute_result"
    }
   ],
   "source": [
    "fx1_3 =  kee.dot(dee.dot(oee))\n",
    "fx1_3"
   ]
  },
  {
   "cell_type": "code",
   "execution_count": null,
   "id": "dabce9fc",
   "metadata": {},
   "outputs": [],
   "source": []
  }
 ],
 "metadata": {
  "kernelspec": {
   "display_name": "Python 3",
   "language": "python",
   "name": "python3"
  },
  "language_info": {
   "codemirror_mode": {
    "name": "ipython",
    "version": 3
   },
   "file_extension": ".py",
   "mimetype": "text/x-python",
   "name": "python",
   "nbconvert_exporter": "python",
   "pygments_lexer": "ipython3",
   "version": "3.8.8"
  }
 },
 "nbformat": 4,
 "nbformat_minor": 5
}
